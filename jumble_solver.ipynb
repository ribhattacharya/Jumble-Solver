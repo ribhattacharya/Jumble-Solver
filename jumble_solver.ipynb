{
 "cells": [
  {
   "cell_type": "code",
   "execution_count": 71,
   "metadata": {},
   "outputs": [],
   "source": [
    "from itertools import permutations"
   ]
  },
  {
   "cell_type": "code",
   "execution_count": 73,
   "metadata": {},
   "outputs": [
    {
     "name": "stdout",
     "output_type": "stream",
     "text": [
      "['', 'c', 'o', 'co', 'w', 'cw', 'ow', 'cow'] 8\n",
      "['', 'c', 'o', 'co', 'oc', 'w', 'cw', 'wc', 'ow', 'wo', 'cow', 'cwo', 'ocw', 'owc', 'wco', 'woc'] 16\n"
     ]
    }
   ],
   "source": [
    "word = 'cow'\n",
    "\n",
    "anagrams = ['']\n",
    "\n",
    "for c in word:\n",
    "    for i in range(len(anagrams)):\n",
    "        anagrams.append(anagrams[i]+c)\n",
    "\n",
    "print(anagrams, len(anagrams))\n",
    "\n",
    "total_anagrams = []\n",
    "for i in range(len(anagrams)):\n",
    "    perms = permutations(anagrams[i])\n",
    "\n",
    "    for perm in perms:\n",
    "        total_anagrams.append(''.join(perm))\n",
    "\n",
    "print(total_anagrams, len(total_anagrams))\n"
   ]
  }
 ],
 "metadata": {
  "kernelspec": {
   "display_name": "jumble_solver",
   "language": "python",
   "name": "python3"
  },
  "language_info": {
   "codemirror_mode": {
    "name": "ipython",
    "version": 3
   },
   "file_extension": ".py",
   "mimetype": "text/x-python",
   "name": "python",
   "nbconvert_exporter": "python",
   "pygments_lexer": "ipython3",
   "version": "3.11.3"
  },
  "orig_nbformat": 4
 },
 "nbformat": 4,
 "nbformat_minor": 2
}
