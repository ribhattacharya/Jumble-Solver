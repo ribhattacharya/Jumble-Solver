{
 "cells": [
  {
   "cell_type": "code",
   "execution_count": 1,
   "metadata": {},
   "outputs": [],
   "source": [
    "from itertools import permutations\n",
    "from utils import *\n",
    "from scripts import *"
   ]
  },
  {
   "cell_type": "code",
   "execution_count": 2,
   "metadata": {},
   "outputs": [
    {
     "name": "stdout",
     "output_type": "stream",
     "text": [
      "['', 'c', 'o', 'co', 'o', 'co', 'oo', 'coo'] 8\n",
      "['', 'c', 'o', 'co', 'oc', 'o', 'co', 'oc', 'oo', 'oo', 'coo', 'coo', 'oco', 'ooc', 'oco', 'ooc'] 16\n"
     ]
    }
   ],
   "source": [
    "word = 'coo'\n",
    "\n",
    "anagrams = ['']\n",
    "\n",
    "for c in word:\n",
    "    for i in range(len(anagrams)):\n",
    "        anagrams.append(anagrams[i]+c)\n",
    "\n",
    "print(anagrams, len(anagrams))\n",
    "\n",
    "total_anagrams = []\n",
    "for i in range(len(anagrams)):\n",
    "    perms = permutations(anagrams[i])\n",
    "\n",
    "    for perm in perms:\n",
    "        total_anagrams.append(''.join(perm))\n",
    "\n",
    "print(total_anagrams, len(total_anagrams))\n"
   ]
  },
  {
   "cell_type": "code",
   "execution_count": 3,
   "metadata": {},
   "outputs": [
    {
     "name": "stdout",
     "output_type": "stream",
     "text": [
      "['ooc', 'coo', 'oco']\n"
     ]
    }
   ],
   "source": [
    "total_perms = []\n",
    "perms = list(set(permutations('coo')))\n",
    "for perm in perms:\n",
    "    total_perms.append(''.join(perm))\n",
    "\n",
    "print(total_perms)\n"
   ]
  },
  {
   "cell_type": "code",
   "execution_count": 9,
   "metadata": {},
   "outputs": [
    {
     "data": {
      "text/plain": [
       "False"
      ]
     },
     "execution_count": 9,
     "metadata": {},
     "output_type": "execute_result"
    }
   ],
   "source": [
    "diction = ['a',\n",
    "           'b',\n",
    "           'ba',\n",
    "           'cab',\n",
    "           'caa']\n",
    "\n",
    "is_sorted(diction)"
   ]
  },
  {
   "cell_type": "code",
   "execution_count": 18,
   "metadata": {},
   "outputs": [
    {
     "name": "stdout",
     "output_type": "stream",
     "text": [
      "./\n",
      "    LICENSE\n",
      "    environment.yml\n",
      "    constants.py\n",
      "    README.md\n",
      "    .gitignore\n",
      "    jumble_solver.py\n",
      "    jumble_solver.ipynb\n",
      "    utils/\n",
      "        __init__.py\n",
      "        utils.py\n",
      "        file_utils.py\n",
      "    scripts/\n",
      "        binary_search.py\n",
      "        __init__.py\n",
      "        sub_anagrams.py\n",
      "            0d/\n",
      "                b70cee64a22768f3a9514142dc25a19b780633\n",
      "            9e/\n",
      "                e568a6cfa51ae862fe153674cf7edb42bc859d\n",
      "            32/\n",
      "                a50b681574c678cead186e5e7205b21c2983ee\n",
      "            56/\n",
      "                6f2dea380599b0f3bc2846a4f18487cebaf47f\n",
      "            60/\n",
      "                8c4603cc2ab62cfde9183e46ee58fe1910e002\n",
      "            d9/\n",
      "                1c3b47ddd516068b8aa7084785c0934f2c657a\n",
      "            da/\n",
      "                4dfd439bdeda98d5202a19d9c2e378b120d40b\n",
      "            cf/\n",
      "                8de1f418128bd807e55be8565ea918016ce4b5\n",
      "            18/\n",
      "                7c37c6615c564b90f2eb4fcfd97eba3dd7ad03\n",
      "            pack/\n",
      "                pack-1f3f8d2452258ab5181a72cc994c5119df090585.pack\n",
      "                pack-1f3f8d2452258ab5181a72cc994c5119df090585.idx\n",
      "            87/\n",
      "                a73805320a4f54f8413c418de4bdc39f2d9a32\n",
      "            17/\n",
      "                4dc64ef1dba21e993a115d8a94810189672ad5\n",
      "            7e/\n",
      "                e5e35fab59c567ec0944ea10c0e271588fde15\n",
      "            81/\n",
      "                65201581c06a384e0b887bcc3168e0c3f1fd46\n",
      "            9a/\n",
      "                e8b1345779f9d9efb183a22d92ece769281863\n",
      "            5c/\n",
      "                26c6a4b3c5a405a31815958e023179913f399b\n",
      "            info/\n",
      "            65/\n",
      "                1513ac9073cdd18e3b0109f8ae28786bfe8fcd\n",
      "            0f/\n",
      "                fe9f53328a2b9c6aaa01d59340c87a40248410\n",
      "            0a/\n",
      "                529881c21473c81053283ad7564d06b28f0d2c\n",
      "            90/\n",
      "                4ce38e4c4f9d7ae69ed4fbe90a1f78b6c27d56\n",
      "            a0/\n",
      "                9b621317568b26266644a712ad2c022d9762b8\n",
      "            b8/\n",
      "                e7f89baa92f969eea6a429cb5549a06378b4d3\n",
      "            b1/\n",
      "                4fb4a61c2bb73baaa7b02c2816799c2ff9a6de\n",
      "            d5/\n",
      "                0999896c26ca79f956f4d92a875c105f5fc45c\n",
      "            af/\n",
      "                540ca51e617769b35767e345fd8eab26a5338e\n",
      "                ba9bc968ca0339dc072a1627b7ff4de9f077f9\n",
      "            c4/\n",
      "                1032f212d34e863fb01a6abb384e141d48ad8d\n",
      "            e6/\n",
      "                316206d640b285f8208f42c9f2f95af60ecd9f\n",
      "            41/\n",
      "                6d921c1bfac94269be6ccd05dc249555acac44\n",
      "            48/\n",
      "                875db89fc56d571e89fafb14d937cb31b964a6\n",
      "                4ec47f84c3095aa585720f82720d45535be0ad\n",
      "            4a/\n",
      "                f6a9273c471f22627118df0d1666cc6ae63fdb\n",
      "            23/\n",
      "                39add0317f480606f812df0067a73401730600\n",
      "            1c/\n",
      "                0729f80bd526ca005aea0028cfd54fb1e0c51c\n",
      "            78/\n",
      "                0bc15a719a1fcd5fcda398e613821efe07ccfc\n",
      "        info/\n",
      "            exclude\n",
      "        logs/\n",
      "            HEAD\n",
      "            refs/\n",
      "                heads/\n",
      "                    main\n",
      "                remotes/\n",
      "                    origin/\n",
      "                        HEAD\n",
      "                        main\n",
      "        hooks/\n",
      "            commit-msg.sample\n",
      "            pre-rebase.sample\n",
      "            pre-commit.sample\n",
      "            applypatch-msg.sample\n",
      "            fsmonitor-watchman.sample\n",
      "            pre-receive.sample\n",
      "            prepare-commit-msg.sample\n",
      "            post-update.sample\n",
      "            pre-merge-commit.sample\n",
      "            pre-applypatch.sample\n",
      "            pre-push.sample\n",
      "            update.sample\n",
      "            push-to-checkout.sample\n",
      "        refs/\n",
      "            heads/\n",
      "                main\n",
      "            tags/\n",
      "            remotes/\n",
      "                origin/\n",
      "                    HEAD\n",
      "                    main\n",
      "    word_lists/\n",
      "        mit_10k.txt\n",
      "        corncob_lowercase.txt\n"
     ]
    }
   ],
   "source": [
    "import os\n",
    "\n",
    "def list_files(startpath):\n",
    "    for root, dirs, files in os.walk(startpath):\n",
    "        level = root.replace(startpath, '').count(os.sep)\n",
    "        indent = ' ' * 4 * (level)\n",
    "        if os.path.basename(root) in  ['__pycache__', '.git', 'objects']:\n",
    "            continue\n",
    "        print('{}{}/'.format(indent, os.path.basename(root)))\n",
    "        subindent = ' ' * 4 * (level + 1)\n",
    "        for f in files:\n",
    "            print('{}{}'.format(subindent, f))\n",
    "\n",
    "list_files('.')"
   ]
  },
  {
   "cell_type": "code",
   "execution_count": 20,
   "metadata": {},
   "outputs": [
    {
     "data": {
      "text/plain": [
       "58110"
      ]
     },
     "execution_count": 20,
     "metadata": {},
     "output_type": "execute_result"
    }
   ],
   "source": [
    "len(load_dict('corncob_lowercase.txt'))"
   ]
  }
 ],
 "metadata": {
  "kernelspec": {
   "display_name": "jumble_solver",
   "language": "python",
   "name": "python3"
  },
  "language_info": {
   "codemirror_mode": {
    "name": "ipython",
    "version": 3
   },
   "file_extension": ".py",
   "mimetype": "text/x-python",
   "name": "python",
   "nbconvert_exporter": "python",
   "pygments_lexer": "ipython3",
   "version": "3.11.3"
  },
  "orig_nbformat": 4
 },
 "nbformat": 4,
 "nbformat_minor": 2
}
