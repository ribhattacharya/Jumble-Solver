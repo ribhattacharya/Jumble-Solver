{
 "cells": [
  {
   "cell_type": "code",
   "execution_count": 1,
   "metadata": {},
   "outputs": [],
   "source": [
    "from itertools import permutations\n",
    "from utils import *\n",
    "from scripts import *"
   ]
  },
  {
   "cell_type": "code",
   "execution_count": 2,
   "metadata": {},
   "outputs": [
    {
     "name": "stdout",
     "output_type": "stream",
     "text": [
      "['', 'c', 'o', 'co', 'w', 'cw', 'ow', 'cow'] 8\n",
      "['', 'c', 'o', 'co', 'oc', 'w', 'cw', 'wc', 'ow', 'wo', 'cow', 'cwo', 'ocw', 'owc', 'wco', 'woc'] 16\n"
     ]
    }
   ],
   "source": [
    "word = 'cow'\n",
    "\n",
    "anagrams = ['']\n",
    "\n",
    "for c in word:\n",
    "    for i in range(len(anagrams)):\n",
    "        anagrams.append(anagrams[i]+c)\n",
    "\n",
    "print(anagrams, len(anagrams))\n",
    "\n",
    "total_anagrams = []\n",
    "for i in range(len(anagrams)):\n",
    "    perms = permutations(anagrams[i])\n",
    "\n",
    "    for perm in perms:\n",
    "        total_anagrams.append(''.join(perm))\n",
    "\n",
    "print(total_anagrams, len(total_anagrams))\n"
   ]
  },
  {
   "cell_type": "code",
   "execution_count": 7,
   "metadata": {},
   "outputs": [],
   "source": [
    "total_anagrams = total_anagrams[1:8]"
   ]
  },
  {
   "cell_type": "code",
   "execution_count": 8,
   "metadata": {},
   "outputs": [
    {
     "name": "stdout",
     "output_type": "stream",
     "text": [
      "c\n",
      "co\n",
      "cow\n",
      "cw\n",
      "cwo\n",
      "o\n",
      "oc\n"
     ]
    },
    {
     "data": {
      "text/plain": [
       "['c', 'co', 'cow', 'cw', 'cwo', 'o', 'oc']"
      ]
     },
     "execution_count": 8,
     "metadata": {},
     "output_type": "execute_result"
    }
   ],
   "source": [
    "word = 'cow'\n",
    "returnValidSubAnagrams(total_anagrams, word).compute()"
   ]
  }
 ],
 "metadata": {
  "kernelspec": {
   "display_name": "jumble_solver",
   "language": "python",
   "name": "python3"
  },
  "language_info": {
   "codemirror_mode": {
    "name": "ipython",
    "version": 3
   },
   "file_extension": ".py",
   "mimetype": "text/x-python",
   "name": "python",
   "nbconvert_exporter": "python",
   "pygments_lexer": "ipython3",
   "version": "3.11.3"
  },
  "orig_nbformat": 4
 },
 "nbformat": 4,
 "nbformat_minor": 2
}
