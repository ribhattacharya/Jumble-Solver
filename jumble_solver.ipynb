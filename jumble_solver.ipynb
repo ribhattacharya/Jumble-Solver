{
 "cells": [
  {
   "cell_type": "code",
   "execution_count": 1,
   "metadata": {},
   "outputs": [],
   "source": [
    "from itertools import permutations\n",
    "from utils import *\n",
    "from scripts import *"
   ]
  },
  {
   "cell_type": "code",
   "execution_count": 2,
   "metadata": {},
   "outputs": [
    {
     "name": "stdout",
     "output_type": "stream",
     "text": [
      "['', 'c', 'o', 'co', 'o', 'co', 'oo', 'coo'] 8\n",
      "['', 'c', 'o', 'co', 'oc', 'o', 'co', 'oc', 'oo', 'oo', 'coo', 'coo', 'oco', 'ooc', 'oco', 'ooc'] 16\n"
     ]
    }
   ],
   "source": [
    "word = 'coo'\n",
    "\n",
    "anagrams = ['']\n",
    "\n",
    "for c in word:\n",
    "    for i in range(len(anagrams)):\n",
    "        anagrams.append(anagrams[i]+c)\n",
    "\n",
    "print(anagrams, len(anagrams))\n",
    "\n",
    "total_anagrams = []\n",
    "for i in range(len(anagrams)):\n",
    "    perms = permutations(anagrams[i])\n",
    "\n",
    "    for perm in perms:\n",
    "        total_anagrams.append(''.join(perm))\n",
    "\n",
    "print(total_anagrams, len(total_anagrams))\n"
   ]
  },
  {
   "cell_type": "code",
   "execution_count": 4,
   "metadata": {},
   "outputs": [
    {
     "name": "stdout",
     "output_type": "stream",
     "text": [
      "['oco', 'ooc', 'coo']\n"
     ]
    }
   ],
   "source": [
    "total_perms = []\n",
    "perms = list(set(permutations('coo')))\n",
    "for perm in perms:\n",
    "    total_perms.append(''.join(perm))\n",
    "\n",
    "print(total_perms)\n"
   ]
  }
 ],
 "metadata": {
  "kernelspec": {
   "display_name": "jumble_solver",
   "language": "python",
   "name": "python3"
  },
  "language_info": {
   "codemirror_mode": {
    "name": "ipython",
    "version": 3
   },
   "file_extension": ".py",
   "mimetype": "text/x-python",
   "name": "python",
   "nbconvert_exporter": "python",
   "pygments_lexer": "ipython3",
   "version": "3.11.3"
  },
  "orig_nbformat": 4
 },
 "nbformat": 4,
 "nbformat_minor": 2
}
